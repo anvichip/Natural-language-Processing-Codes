{
  "nbformat": 4,
  "nbformat_minor": 0,
  "metadata": {
    "colab": {
      "provenance": [],
      "authorship_tag": "ABX9TyPcg9oC7Mrg2PsxnhZvUKNu",
      "include_colab_link": true
    },
    "kernelspec": {
      "name": "python3",
      "display_name": "Python 3"
    },
    "language_info": {
      "name": "python"
    }
  },
  "cells": [
    {
      "cell_type": "markdown",
      "metadata": {
        "id": "view-in-github",
        "colab_type": "text"
      },
      "source": [
        "<a href=\"https://colab.research.google.com/github/anvichip/Natural-language-Processing-Codes/blob/main/NLP_LAB1_RegEx.ipynb\" target=\"_parent\"><img src=\"https://colab.research.google.com/assets/colab-badge.svg\" alt=\"Open In Colab\"/></a>"
      ]
    },
    {
      "cell_type": "markdown",
      "source": [
        "# Lab Assignment – 01: Extracting the patterns\n",
        "### Name: Anvi Kohli\n",
        "### Enrollment: E21CSEU0201"
      ],
      "metadata": {
        "id": "yJkrb6OWxFbP"
      }
    },
    {
      "cell_type": "markdown",
      "source": [
        "## Importing Libraries"
      ],
      "metadata": {
        "id": "m_2RleRIxuM9"
      }
    },
    {
      "cell_type": "code",
      "source": [
        "import re"
      ],
      "metadata": {
        "id": "crgcpkaSx1mr"
      },
      "execution_count": 1,
      "outputs": []
    },
    {
      "cell_type": "markdown",
      "source": [
        "### Task 1: You will explore the utility of re package- regular expression package"
      ],
      "metadata": {
        "id": "BHBtYNhOxh8w"
      }
    },
    {
      "cell_type": "markdown",
      "source": [
        "**To find a URL in a sentence:**\n",
        "\n",
        "\n"
      ],
      "metadata": {
        "id": "2mRZ53lhxnKo"
      }
    },
    {
      "cell_type": "code",
      "source": [
        "example=\"I love spending time at https://www.xy123z.com/\""
      ],
      "metadata": {
        "id": "p5JezUP6z7D0"
      },
      "execution_count": 5,
      "outputs": []
    },
    {
      "cell_type": "code",
      "execution_count": 23,
      "metadata": {
        "colab": {
          "base_uri": "https://localhost:8080/"
        },
        "id": "eVII_YSyw4cn",
        "outputId": "e4a24d22-53f4-47dd-dc8c-4950955226ce"
      },
      "outputs": [
        {
          "output_type": "stream",
          "name": "stdout",
          "text": [
            "http://www.xy123z.com/\n"
          ]
        }
      ],
      "source": [
        "match = re.search('https?://www.[a-z0-9\\.#]+\\.com/',example)\n",
        "if match:\n",
        "  print(match.group())"
      ]
    },
    {
      "cell_type": "markdown",
      "source": [
        "**Get email id from the sentence:**"
      ],
      "metadata": {
        "id": "uBRyWfSY3gvW"
      }
    },
    {
      "cell_type": "code",
      "source": [
        "example=\"My email id is xyz111@gmail.com\""
      ],
      "metadata": {
        "id": "8Jegww833gbB"
      },
      "execution_count": 24,
      "outputs": []
    },
    {
      "cell_type": "code",
      "source": [
        "match = re.search('[^a-z][a-z0-9]+@[a-z]+\\.com',example)\n",
        "if match:\n",
        "  print(match.group())"
      ],
      "metadata": {
        "colab": {
          "base_uri": "https://localhost:8080/"
        },
        "id": "FArLhbP4z3Uz",
        "outputId": "1c4f7444-bebb-4dea-c437-e45a2c993b8d"
      },
      "execution_count": 32,
      "outputs": [
        {
          "output_type": "stream",
          "name": "stdout",
          "text": [
            " xyz111@gmail.com\n"
          ]
        }
      ]
    },
    {
      "cell_type": "markdown",
      "source": [
        "**To find the hashtags:**"
      ],
      "metadata": {
        "id": "SCFX6pDC4pEa"
      }
    },
    {
      "cell_type": "code",
      "source": [
        "a = '#Sushant is trending now in the world'"
      ],
      "metadata": {
        "id": "fMOCb_R530Y1"
      },
      "execution_count": 43,
      "outputs": []
    },
    {
      "cell_type": "code",
      "source": [
        "match = re.search('[^#][a-zA-Z0-9]+',a)\n",
        "if match:\n",
        "  print(match.group())"
      ],
      "metadata": {
        "colab": {
          "base_uri": "https://localhost:8080/"
        },
        "id": "jqbAVE_J4vvi",
        "outputId": "e0fb18cb-e6b1-45fb-d9ba-f9934d2d035a"
      },
      "execution_count": 44,
      "outputs": [
        {
          "output_type": "stream",
          "name": "stdout",
          "text": [
            "Sushant\n"
          ]
        }
      ]
    },
    {
      "cell_type": "markdown",
      "source": [
        "**To find the mentions in a sentence: @ – This symbol is used to mention  someone in tweets. So, to extract words associated with @ symbol use this code:**"
      ],
      "metadata": {
        "id": "k2pNPcKd5KeR"
      }
    },
    {
      "cell_type": "code",
      "source": [
        "example=\"@Ajit, please help me\""
      ],
      "metadata": {
        "id": "ndHr0x3Q43in"
      },
      "execution_count": 48,
      "outputs": []
    },
    {
      "cell_type": "code",
      "source": [
        "match = re.search('^@[A-Za-z]+',example)\n",
        "if match:\n",
        "  print(match.group())"
      ],
      "metadata": {
        "colab": {
          "base_uri": "https://localhost:8080/"
        },
        "id": "KPEOMtTS516O",
        "outputId": "ecfb6647-4752-4e3c-e192-9ad866418c29"
      },
      "execution_count": 52,
      "outputs": [
        {
          "output_type": "stream",
          "name": "stdout",
          "text": [
            "@Ajit\n"
          ]
        }
      ]
    },
    {
      "cell_type": "markdown",
      "source": [
        "**To find numbers in a sentence:**\n"
      ],
      "metadata": {
        "id": "BrBn2ak16Ioj"
      }
    },
    {
      "cell_type": "code",
      "source": [
        "example=\"8853147 sq. km of area washed away in floods\""
      ],
      "metadata": {
        "id": "mSBG0yol58cY"
      },
      "execution_count": 53,
      "outputs": []
    },
    {
      "cell_type": "code",
      "source": [
        "match = re.search('\\d+',example)\n",
        "if match:\n",
        "  print(match.group())"
      ],
      "metadata": {
        "colab": {
          "base_uri": "https://localhost:8080/"
        },
        "id": "_q6TVW5d6unQ",
        "outputId": "d2ae9c3d-871f-41fe-9772-ba59ed730e1b"
      },
      "execution_count": 55,
      "outputs": [
        {
          "output_type": "stream",
          "name": "stdout",
          "text": [
            "8853147\n"
          ]
        }
      ]
    },
    {
      "cell_type": "markdown",
      "source": [
        "**To find punctuations in a sentence:**"
      ],
      "metadata": {
        "id": "BbAtMzfC63g6"
      }
    },
    {
      "cell_type": "code",
      "source": [
        "example=\"Corona virus killed #24506 people. #Corona is un(tolerable)\""
      ],
      "metadata": {
        "id": "tsBR8FxK61JS"
      },
      "execution_count": 63,
      "outputs": []
    },
    {
      "cell_type": "code",
      "source": [
        "match = re.search('[\\.,!?]',example)\n",
        "if match:\n",
        "  print(match.group())"
      ],
      "metadata": {
        "colab": {
          "base_uri": "https://localhost:8080/"
        },
        "id": "Y90m14mK69AC",
        "outputId": "f2994e50-07eb-42bf-a659-f76edd2286ac"
      },
      "execution_count": 64,
      "outputs": [
        {
          "output_type": "stream",
          "name": "stdout",
          "text": [
            ".\n"
          ]
        }
      ]
    },
    {
      "cell_type": "markdown",
      "source": [
        "To Validate PAN Number use the below code: Format: First 5 letters in CAPS+4 digits+Last letter in CAPS\n"
      ],
      "metadata": {
        "id": "1Kq-SKMm8Fm7"
      }
    },
    {
      "cell_type": "code",
      "source": [
        "example1 = \"ABCED3193P\"\n",
        "example2 = \"lEcGD012eg\""
      ],
      "metadata": {
        "id": "-sT1qnFA75D6"
      },
      "execution_count": 78,
      "outputs": []
    },
    {
      "cell_type": "code",
      "source": [
        "match = re.search('[A-Z]{5}\\d{4}[a-zA-Z]$',example1)\n",
        "if match:\n",
        "  print(match.group())"
      ],
      "metadata": {
        "colab": {
          "base_uri": "https://localhost:8080/"
        },
        "id": "KrfZgzdr8XEL",
        "outputId": "20b4098f-bf28-4cad-d160-a92dfa9c314d"
      },
      "execution_count": 82,
      "outputs": [
        {
          "output_type": "stream",
          "name": "stdout",
          "text": [
            "ABCED3193P\n"
          ]
        }
      ]
    },
    {
      "cell_type": "code",
      "source": [
        "match = re.search('[A-Z]{5}\\d{4}[a-zA-Z]$',example2)\n",
        "if match:\n",
        "  print(match.group())\n",
        "else:\n",
        "  print(\"Not match\")"
      ],
      "metadata": {
        "colab": {
          "base_uri": "https://localhost:8080/"
        },
        "id": "8DRXwu5t96vE",
        "outputId": "5b172e32-3123-47aa-9ffb-c05e7dbae1d5"
      },
      "execution_count": 85,
      "outputs": [
        {
          "output_type": "stream",
          "name": "stdout",
          "text": [
            "Not match\n"
          ]
        }
      ]
    },
    {
      "cell_type": "markdown",
      "source": [
        "**Remove repetitive characters from sentence:**"
      ],
      "metadata": {
        "id": "_93PKzKf-7_5"
      }
    },
    {
      "cell_type": "code",
      "source": [
        "example=\"heyyy this is a verrrry loong texttt\""
      ],
      "metadata": {
        "id": "qEJ_Qpwh-lmi"
      },
      "execution_count": 86,
      "outputs": []
    },
    {
      "cell_type": "code",
      "source": [
        "result = re.sub(r'(.)\\1+', r'\\1', example)"
      ],
      "metadata": {
        "id": "UZHWntcI_D2Z"
      },
      "execution_count": 87,
      "outputs": []
    },
    {
      "cell_type": "code",
      "source": [
        "print(result)"
      ],
      "metadata": {
        "colab": {
          "base_uri": "https://localhost:8080/"
        },
        "id": "tpHXSFkB_xNl",
        "outputId": "48779d0b-27ae-4c64-a13b-5633105f7d51"
      },
      "execution_count": 88,
      "outputs": [
        {
          "output_type": "stream",
          "name": "stdout",
          "text": [
            "hey this is a very long text\n"
          ]
        }
      ]
    },
    {
      "cell_type": "markdown",
      "source": [
        "**To find Indian mobile numbers:**"
      ],
      "metadata": {
        "id": "0DReUOSI_3-3"
      }
    },
    {
      "cell_type": "code",
      "source": [
        "example= \"9990001796 is a phone number of PMO office\""
      ],
      "metadata": {
        "id": "JokP0CHP_ySv"
      },
      "execution_count": 89,
      "outputs": []
    },
    {
      "cell_type": "code",
      "source": [
        "match = re.search('\\d{10}',example)\n",
        "if match:\n",
        "  print(match.group())"
      ],
      "metadata": {
        "colab": {
          "base_uri": "https://localhost:8080/"
        },
        "id": "WnzCCNIW_86N",
        "outputId": "942b162b-a918-4ea4-9d05-3314d80ee0fd"
      },
      "execution_count": 91,
      "outputs": [
        {
          "output_type": "stream",
          "name": "stdout",
          "text": [
            "9990001796\n"
          ]
        }
      ]
    },
    {
      "cell_type": "markdown",
      "source": [
        "**Extract words starting with a capital letter from the input text.**"
      ],
      "metadata": {
        "id": "K6y6x9_sAIav"
      }
    },
    {
      "cell_type": "code",
      "source": [
        "example = \"Ajit Doval is the best National Security Advisor so far.\""
      ],
      "metadata": {
        "id": "t-FtEUqoAFmR"
      },
      "execution_count": 106,
      "outputs": []
    },
    {
      "cell_type": "code",
      "source": [
        "example = \"Hello, I'm Your Assistant.\""
      ],
      "metadata": {
        "id": "avgwm4vqBsm3"
      },
      "execution_count": 108,
      "outputs": []
    },
    {
      "cell_type": "code",
      "source": [
        "match = re.findall('[^A-Z][a-z]+',example)\n",
        "if match:\n",
        "  print(match)"
      ],
      "metadata": {
        "colab": {
          "base_uri": "https://localhost:8080/"
        },
        "id": "6xUKTAAgAN46",
        "outputId": "cb82c262-7f3e-4dde-c075-59c2bec4c30e"
      },
      "execution_count": 110,
      "outputs": [
        {
          "output_type": "stream",
          "name": "stdout",
          "text": [
            "['ello', \"'m\", 'our', 'ssistant']\n"
          ]
        }
      ]
    }
  ]
}